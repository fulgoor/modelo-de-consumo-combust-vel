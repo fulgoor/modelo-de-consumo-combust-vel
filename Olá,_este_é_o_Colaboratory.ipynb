{
  "cells": [
    {
      "cell_type": "markdown",
      "metadata": {
        "id": "view-in-github",
        "colab_type": "text"
      },
      "source": [
        "<a href=\"https://colab.research.google.com/github/fulgoor/modelo-de-consumo-combust-vel/blob/main/Ol%C3%A1%2C_este_%C3%A9_o_Colaboratory.ipynb\" target=\"_parent\"><img src=\"https://colab.research.google.com/assets/colab-badge.svg\" alt=\"Open In Colab\"/></a>"
      ]
    },
    {
      "cell_type": "code",
      "source": [
        "import google.generativeai as genai\n",
        "from google.colab import userdata\n",
        "api_key  = userdata.get ('secret_key')\n",
        "genai.configure(api_key=api_key)\n",
        "def chatbot():\n",
        "  \"\"\"\n",
        "  Função que simula um chatbot para responder perguntas sobre consumo de combustível.\n",
        "  \"\"\"\n",
        "\n",
        "  print(\"Olá! Sou o beberao, assistente que pode te ajuda com informações sobre consumo de combustível de veículos.\")\n",
        "  print(\"Digite 'sair' para encerrar a conversa.\")\n",
        "\n",
        "  while True:\n",
        "    pergunta = input(\"Qual a sua pergunta? \")\n",
        "\n",
        "    if pergunta.lower() == 'sair':\n",
        "      print(\"Até mais!\")\n",
        "      break\n",
        "\n",
        "    # Primeira interação do \"beberão\"\n",
        "    if not pergunta:\n",
        "      print(\"Olá, eu sou o beberão, quais veículos quer comparar?\")\n",
        "      continue\n",
        "\n",
        "    # Resposta padrão após a primeira interação\n",
        "    print(\"Aguarde os veículos desejados\")\n",
        "\n",
        "    # Define o prompt para o modelo de linguagem\n",
        "    prompt = f\"\"\"\n",
        "    Você é um chatbot especialista em consumo de combustível de veículos.\n",
        "    Responda à seguinte pergunta de forma concisa e informativa:\n",
        "    {pergunta}\n",
        "    \"\"\"\n",
        "\n",
        "    # Gera a resposta usando o modelo de linguagem do Google Generative AI\n",
        "    resposta = genai.generate_text(\n",
        "        model=\"gemini\",\n",
        "        prompt=prompt,\n",
        "        temperature=0.7,\n",
        "        max_output_tokens=256,\n",
        "    )\n",
        "\n",
        "    print(resposta.result)\n",
        "\n",
        "# Inicia o chatbot\n",
        "chatbot()\n"
      ],
      "metadata": {
        "collapsed": true,
        "colab": {
          "base_uri": "https://localhost:8080/"
        },
        "id": "mNY4IMAAQHpK",
        "outputId": "fd5ef098-7c0a-4094-88c0-7e23c8eb46db"
      },
      "execution_count": null,
      "outputs": [
        {
          "metadata": {
            "tags": null
          },
          "name": "stdout",
          "output_type": "stream",
          "text": [
            "Olá! Sou o beberao, assistente que pode te ajuda com informações sobre consumo de combustível de veículos.\n",
            "Digite 'sair' para encerrar a conversa.\n"
          ]
        }
      ]
    }
  ],
  "metadata": {
    "colab": {
      "name": "Olá, este é o Colaboratory",
      "provenance": [],
      "include_colab_link": true
    },
    "kernelspec": {
      "display_name": "Python 3",
      "name": "python3"
    }
  },
  "nbformat": 4,
  "nbformat_minor": 0
}